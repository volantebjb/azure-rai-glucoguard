{
 "cells": [
  {
   "cell_type": "markdown",
   "metadata": {},
   "source": [
    "### Training Code"
   ]
  },
  {
   "cell_type": "code",
   "execution_count": 9,
   "metadata": {},
   "outputs": [],
   "source": [
    "import pandas as pd\n",
    "train = pd.read_parquet('data/training_data.parquet')\n",
    "test = pd.read_parquet('data/testing_data.parquet')"
   ]
  },
  {
   "cell_type": "code",
   "execution_count": 10,
   "metadata": {},
   "outputs": [],
   "source": [
    "# Split train and test data into features X and targets Y.\n",
    "target_column_name = 'readmit_status'\n",
    "Y_train = train[target_column_name]\n",
    "X_train = train.drop([target_column_name], axis = 1)  \n",
    "Y_test = test[target_column_name]\n",
    "X_test = test.drop([target_column_name], axis = 1) "
   ]
  },
  {
   "cell_type": "code",
   "execution_count": 11,
   "metadata": {},
   "outputs": [
    {
     "name": "stdout",
     "output_type": "stream",
     "text": [
      "Training model...\n",
      "Accuracy score:  0.8390804597701149\n"
     ]
    }
   ],
   "source": [
    "from sklearn.compose import make_column_selector as selector\n",
    "from sklearn.preprocessing import OneHotEncoder, StandardScaler\n",
    "from sklearn.compose import ColumnTransformer\n",
    "from sklearn.linear_model import LogisticRegression\n",
    "from sklearn.pipeline import make_pipeline\n",
    "import numpy as np\n",
    "\n",
    "# Transform string data to numeric one-hot vectors\n",
    "categorical_selector = selector(dtype_exclude=np.number)\n",
    "categorical_columns = categorical_selector(X_train)\n",
    "categorial_encoder = OneHotEncoder(handle_unknown='ignore')\n",
    "\n",
    "# Standardize numeric data by removing the mean and scaling to unit variance\n",
    "numerical_selector = selector(dtype_include=np.number)\n",
    "numerical_columns = numerical_selector(X_train)\n",
    "numerical_encoder = StandardScaler()\n",
    "\n",
    "# Create a preprocessor that will preprocess both numeric and categorical data\n",
    "preprocessor = ColumnTransformer([\n",
    "('categorical-encoder', categorial_encoder, categorical_columns),\n",
    "('standard_scaler', numerical_encoder, numerical_columns)])\n",
    "\n",
    "clf = make_pipeline(preprocessor, LogisticRegression())\n",
    "\n",
    "print('Training model...') \n",
    "model = clf.fit(X_train, Y_train)\n",
    "print('Accuracy score: ', clf.score(X_test,Y_test))"
   ]
  },
  {
   "cell_type": "markdown",
   "metadata": {},
   "source": [
    "### Cloud Client"
   ]
  },
  {
   "cell_type": "code",
   "execution_count": 12,
   "metadata": {},
   "outputs": [
    {
     "name": "stderr",
     "output_type": "stream",
     "text": [
      "Found the config file in: .\\config.json\n"
     ]
    }
   ],
   "source": [
    "from azure.ai.ml import MLClient\n",
    "from azure.identity import DefaultAzureCredential\n",
    "\n",
    "credential = DefaultAzureCredential()\n",
    "ml_client = MLClient.from_config(credential=credential)"
   ]
  },
  {
   "cell_type": "markdown",
   "metadata": {},
   "source": [
    "### Register training and test data"
   ]
  },
  {
   "cell_type": "code",
   "execution_count": 13,
   "metadata": {},
   "outputs": [
    {
     "name": "stderr",
     "output_type": "stream",
     "text": [
      "\u001b[32mUploading training_data.parquet\u001b[32m (< 1 MB): 100%|##########| 48.9k/48.9k [00:00<00:00, 62.8kB/s]\n",
      "\u001b[39m\n",
      "\n",
      "\u001b[32mUploading testing_data.parquet\u001b[32m (< 1 MB): 100%|##########| 23.7k/23.7k [00:00<00:00, 47.5kB/s]\n",
      "\u001b[39m\n",
      "\n"
     ]
    }
   ],
   "source": [
    "from azure.ai.ml.entities import Data\n",
    "from azure.ai.ml.constants import AssetTypes\n",
    "\n",
    "train_data_name = 'hospital_train_parquet'\n",
    "test_data_name = 'hospital_test_parquet'\n",
    "\n",
    "training_data = Data(\n",
    "    name=train_data_name,\n",
    "    path='data/training_data.parquet',\n",
    "    type=AssetTypes.URI_FILE,\n",
    "    description='RAI hospital train data'\n",
    ")\n",
    "tr_data = ml_client.data.create_or_update(training_data)\n",
    "\n",
    "test_data = Data(\n",
    "    name=test_data_name,\n",
    "    path='data/testing_data.parquet',\n",
    "    type=AssetTypes.URI_FILE,\n",
    "    description='RAI hospital test data'\n",
    ")\n",
    "ts_data = ml_client.data.create_or_update(test_data)"
   ]
  },
  {
   "cell_type": "markdown",
   "metadata": {},
   "source": [
    "### Compute Cluster"
   ]
  },
  {
   "cell_type": "code",
   "execution_count": 14,
   "metadata": {},
   "outputs": [
    {
     "name": "stderr",
     "output_type": "stream",
     "text": [
      "Request time out. Ingestion may be backed up. Retrying.\n"
     ]
    },
    {
     "data": {
      "text/plain": [
       "AmlCompute({'type': 'amlcompute', 'created_on': None, 'provisioning_state': 'Succeeded', 'provisioning_errors': None, 'name': 'trainingcompute', 'description': None, 'tags': None, 'properties': {}, 'print_as_yaml': True, 'id': '/subscriptions/db7039f5-8ed1-482e-b065-00d091e98955/resourceGroups/rg-glucoguard/providers/Microsoft.MachineLearningServices/workspaces/glucoguard/computes/trainingcompute', 'Resource__source_path': None, 'base_path': 'c:\\\\Users\\\\volantebjb\\\\OneDrive\\\\repos\\\\diabetes_readmission_predictor', 'creation_context': None, 'serialize': <msrest.serialization.Serializer object at 0x0000027476F38C10>, 'resource_id': None, 'location': 'eastus2', 'size': 'STANDARD_DS12_V2', 'min_instances': 0, 'max_instances': 4, 'idle_time_before_scale_down': 3600.0, 'identity': None, 'ssh_public_access_enabled': True, 'ssh_settings': None, 'network_settings': <azure.ai.ml.entities._compute.compute.NetworkSettings object at 0x0000027476F38310>, 'tier': 'dedicated', 'enable_node_public_ip': True, 'subnet': None})"
      ]
     },
     "execution_count": 14,
     "metadata": {},
     "output_type": "execute_result"
    }
   ],
   "source": [
    "from azure.ai.ml.entities import AmlCompute\n",
    "import time\n",
    "\n",
    "compute_name = 'trainingcompute'\n",
    "\n",
    "my_compute = AmlCompute(\n",
    "    name=compute_name,\n",
    "    size='Standard_DS12_v2',\n",
    "    min_instances=0,\n",
    "    max_instances=4,\n",
    "    idle_time_before_scale_down=3600\n",
    ")\n",
    "ml_client.compute.begin_create_or_update(my_compute).result()"
   ]
  },
  {
   "cell_type": "markdown",
   "metadata": {},
   "source": [
    "### Job Creation"
   ]
  },
  {
   "cell_type": "code",
   "execution_count": 15,
   "metadata": {},
   "outputs": [
    {
     "name": "stderr",
     "output_type": "stream",
     "text": [
      "Class AutoDeleteSettingSchema: This is an experimental class, and may change at any time. Please see https://aka.ms/azuremlexperimental for more information.\n",
      "Class AutoDeleteConditionSchema: This is an experimental class, and may change at any time. Please see https://aka.ms/azuremlexperimental for more information.\n",
      "Class BaseAutoDeleteSettingSchema: This is an experimental class, and may change at any time. Please see https://aka.ms/azuremlexperimental for more information.\n",
      "Class IntellectualPropertySchema: This is an experimental class, and may change at any time. Please see https://aka.ms/azuremlexperimental for more information.\n",
      "Class ProtectionLevelSchema: This is an experimental class, and may change at any time. Please see https://aka.ms/azuremlexperimental for more information.\n",
      "Class BaseIntellectualPropertySchema: This is an experimental class, and may change at any time. Please see https://aka.ms/azuremlexperimental for more information.\n"
     ]
    },
    {
     "ename": "Exception",
     "evalue": "{\n  \"result\": \"Failed\",\n  \"errors\": [\n    {\n      \"message\": \"Can't find directory or file in resolved absolute path: C:/Users/volantebjb/OneDrive/repos/diabetes_readmission_predictor/azureml:src.; Not a valid URL.; In order to specify a git path, please provide the correct path prefixed with 'git+\\n; In order to specify an existing codes, please provide the correct registry path prefixed with 'azureml://':\\n; In order to specify an existing codes, please provide the correct registry path prefixed with 'azureml://':\\n; Could not parse src/. If providing an ARM id, it should start with a '/'.\",\n      \"path\": \"component.code\",\n      \"value\": \"azureml:src/\"\n    }\n  ]\n}",
     "output_type": "error",
     "traceback": [
      "\u001b[1;31m---------------------------------------------------------------------------\u001b[0m",
      "\u001b[1;31mValidationException\u001b[0m                       Traceback (most recent call last)",
      "File \u001b[1;32mc:\\Users\\volantebjb\\OneDrive\\repos\\diabetes_readmission_predictor\\.venv\\lib\\site-packages\\azure\\ai\\ml\\operations\\_job_operations.py:642\u001b[0m, in \u001b[0;36mJobOperations.create_or_update\u001b[1;34m(self, job, description, compute, tags, experiment_name, skip_validation, **kwargs)\u001b[0m\n\u001b[0;32m    641\u001b[0m \u001b[38;5;28;01mif\u001b[39;00m \u001b[38;5;129;01mnot\u001b[39;00m skip_validation:\n\u001b[1;32m--> 642\u001b[0m     \u001b[38;5;28;43mself\u001b[39;49m\u001b[38;5;241;43m.\u001b[39;49m\u001b[43m_validate\u001b[49m\u001b[43m(\u001b[49m\u001b[43mjob\u001b[49m\u001b[43m,\u001b[49m\u001b[43m \u001b[49m\u001b[43mraise_on_failure\u001b[49m\u001b[38;5;241;43m=\u001b[39;49m\u001b[38;5;28;43;01mTrue\u001b[39;49;00m\u001b[43m)\u001b[49m\n\u001b[0;32m    644\u001b[0m \u001b[38;5;66;03m# Create all dependent resources\u001b[39;00m\n",
      "File \u001b[1;32mc:\\Users\\volantebjb\\OneDrive\\repos\\diabetes_readmission_predictor\\.venv\\lib\\site-packages\\azure\\ai\\ml\\_telemetry\\activity.py:350\u001b[0m, in \u001b[0;36mmonitor_with_telemetry_mixin.<locals>.monitor.<locals>.wrapper\u001b[1;34m(*args, **kwargs)\u001b[0m\n\u001b[0;32m    349\u001b[0m \u001b[38;5;28;01mwith\u001b[39;00m log_activity(logger, activity_name \u001b[38;5;129;01mor\u001b[39;00m f\u001b[38;5;241m.\u001b[39m\u001b[38;5;18m__name__\u001b[39m, activity_type, dimensions) \u001b[38;5;28;01mas\u001b[39;00m activityLogger:\n\u001b[1;32m--> 350\u001b[0m     return_value \u001b[38;5;241m=\u001b[39m f(\u001b[38;5;241m*\u001b[39margs, \u001b[38;5;241m*\u001b[39m\u001b[38;5;241m*\u001b[39mkwargs)\n\u001b[0;32m    351\u001b[0m     \u001b[38;5;28;01mif\u001b[39;00m \u001b[38;5;129;01mnot\u001b[39;00m parameter_dimensions:\n\u001b[0;32m    352\u001b[0m         \u001b[38;5;66;03m# collect from return if no dimensions from parameter\u001b[39;00m\n",
      "File \u001b[1;32mc:\\Users\\volantebjb\\OneDrive\\repos\\diabetes_readmission_predictor\\.venv\\lib\\site-packages\\azure\\ai\\ml\\operations\\_job_operations.py:544\u001b[0m, in \u001b[0;36mJobOperations._validate\u001b[1;34m(self, job, raise_on_failure, **kwargs)\u001b[0m\n\u001b[0;32m    539\u001b[0m     \u001b[38;5;28;01mreturn\u001b[39;00m git_code_validation_result\u001b[38;5;241m.\u001b[39mtry_raise(\n\u001b[0;32m    540\u001b[0m         raise_error\u001b[38;5;241m=\u001b[39mraise_on_failure,\n\u001b[0;32m    541\u001b[0m         error_func\u001b[38;5;241m=\u001b[39merror_func,\n\u001b[0;32m    542\u001b[0m     )\n\u001b[1;32m--> 544\u001b[0m validation_result \u001b[38;5;241m=\u001b[39m \u001b[43mjob\u001b[49m\u001b[38;5;241;43m.\u001b[39;49m\u001b[43m_validate\u001b[49m\u001b[43m(\u001b[49m\u001b[43mraise_error\u001b[49m\u001b[38;5;241;43m=\u001b[39;49m\u001b[43mraise_on_failure\u001b[49m\u001b[43m)\u001b[49m\n\u001b[0;32m    545\u001b[0m validation_result\u001b[38;5;241m.\u001b[39mmerge_with(git_code_validation_result)\n",
      "File \u001b[1;32mc:\\Users\\volantebjb\\OneDrive\\repos\\diabetes_readmission_predictor\\.venv\\lib\\site-packages\\azure\\ai\\ml\\entities\\_validation\\schema.py:119\u001b[0m, in \u001b[0;36mSchemaValidatableMixin._validate\u001b[1;34m(self, raise_error)\u001b[0m\n\u001b[0;32m    118\u001b[0m result\u001b[38;5;241m.\u001b[39mmerge_with(\u001b[38;5;28mself\u001b[39m\u001b[38;5;241m.\u001b[39m_customized_validate())\n\u001b[1;32m--> 119\u001b[0m \u001b[38;5;28;01mreturn\u001b[39;00m \u001b[38;5;28;43mself\u001b[39;49m\u001b[38;5;241;43m.\u001b[39;49m\u001b[43m_try_raise\u001b[49m\u001b[43m(\u001b[49m\u001b[43mresult\u001b[49m\u001b[43m,\u001b[49m\u001b[43m \u001b[49m\u001b[43mraise_error\u001b[49m\u001b[38;5;241;43m=\u001b[39;49m\u001b[43mraise_error\u001b[49m\u001b[43m)\u001b[49m\n",
      "File \u001b[1;32mc:\\Users\\volantebjb\\OneDrive\\repos\\diabetes_readmission_predictor\\.venv\\lib\\site-packages\\azure\\ai\\ml\\entities\\_validation\\schema.py:106\u001b[0m, in \u001b[0;36mSchemaValidatableMixin._try_raise\u001b[1;34m(cls, validation_result, raise_error)\u001b[0m\n\u001b[0;32m    102\u001b[0m \u001b[38;5;129m@classmethod\u001b[39m\n\u001b[0;32m    103\u001b[0m \u001b[38;5;28;01mdef\u001b[39;00m \u001b[38;5;21m_try_raise\u001b[39m(\n\u001b[0;32m    104\u001b[0m     \u001b[38;5;28mcls\u001b[39m, validation_result: MutableValidationResult, \u001b[38;5;241m*\u001b[39m, raise_error: \u001b[38;5;28mbool\u001b[39m \u001b[38;5;241m=\u001b[39m \u001b[38;5;28;01mTrue\u001b[39;00m\n\u001b[0;32m    105\u001b[0m ) \u001b[38;5;241m-\u001b[39m\u001b[38;5;241m>\u001b[39m MutableValidationResult:\n\u001b[1;32m--> 106\u001b[0m     \u001b[38;5;28;01mreturn\u001b[39;00m \u001b[43mvalidation_result\u001b[49m\u001b[38;5;241;43m.\u001b[39;49m\u001b[43mtry_raise\u001b[49m\u001b[43m(\u001b[49m\u001b[43mraise_error\u001b[49m\u001b[38;5;241;43m=\u001b[39;49m\u001b[43mraise_error\u001b[49m\u001b[43m,\u001b[49m\u001b[43m \u001b[49m\u001b[43merror_func\u001b[49m\u001b[38;5;241;43m=\u001b[39;49m\u001b[38;5;28;43mcls\u001b[39;49m\u001b[38;5;241;43m.\u001b[39;49m\u001b[43m_create_validation_error\u001b[49m\u001b[43m)\u001b[49m\n",
      "File \u001b[1;32mc:\\Users\\volantebjb\\OneDrive\\repos\\diabetes_readmission_predictor\\.venv\\lib\\site-packages\\azure\\ai\\ml\\entities\\_validation\\core.py:252\u001b[0m, in \u001b[0;36mMutableValidationResult.try_raise\u001b[1;34m(self, raise_error, error_func)\u001b[0m\n\u001b[0;32m    250\u001b[0m             \u001b[38;5;28;01mreturn\u001b[39;00m ValidationError(message\u001b[38;5;241m=\u001b[39mmsg)\n\u001b[1;32m--> 252\u001b[0m     \u001b[38;5;28;01mraise\u001b[39;00m error_func(\n\u001b[0;32m    253\u001b[0m         \u001b[38;5;28mself\u001b[39m\u001b[38;5;241m.\u001b[39m\u001b[38;5;21m__repr__\u001b[39m(),\n\u001b[0;32m    254\u001b[0m         \u001b[38;5;124m\"\u001b[39m\u001b[38;5;124mvalidation failed on the following fields: \u001b[39m\u001b[38;5;124m\"\u001b[39m \u001b[38;5;241m+\u001b[39m \u001b[38;5;124m\"\u001b[39m\u001b[38;5;124m, \u001b[39m\u001b[38;5;124m\"\u001b[39m\u001b[38;5;241m.\u001b[39mjoin(\u001b[38;5;28mself\u001b[39m\u001b[38;5;241m.\u001b[39merror_messages),\n\u001b[0;32m    255\u001b[0m     )\n\u001b[0;32m    256\u001b[0m \u001b[38;5;28;01mreturn\u001b[39;00m \u001b[38;5;28mself\u001b[39m\n",
      "\u001b[1;31mValidationException\u001b[0m: {\n  \"result\": \"Failed\",\n  \"errors\": [\n    {\n      \"message\": \"Can't find directory or file in resolved absolute path: C:/Users/volantebjb/OneDrive/repos/diabetes_readmission_predictor/azureml:src.; Not a valid URL.; In order to specify a git path, please provide the correct path prefixed with 'git+\\n; In order to specify an existing codes, please provide the correct registry path prefixed with 'azureml://':\\n; In order to specify an existing codes, please provide the correct registry path prefixed with 'azureml://':\\n; Could not parse src/. If providing an ARM id, it should start with a '/'.\",\n      \"path\": \"component.code\",\n      \"value\": \"azureml:src/\"\n    }\n  ]\n}",
      "\nDuring handling of the above exception, another exception occurred:\n",
      "\u001b[1;31mException\u001b[0m                                 Traceback (most recent call last)",
      "Cell \u001b[1;32mIn[15], line 20\u001b[0m\n\u001b[0;32m      5\u001b[0m \u001b[38;5;66;03m# Create the job.\u001b[39;00m\n\u001b[0;32m      6\u001b[0m job \u001b[38;5;241m=\u001b[39m command(\n\u001b[0;32m      7\u001b[0m     description\u001b[38;5;241m=\u001b[39m\u001b[38;5;124m'\u001b[39m\u001b[38;5;124mTrains hospital readmission model\u001b[39m\u001b[38;5;124m'\u001b[39m,\n\u001b[0;32m      8\u001b[0m     experiment_name\u001b[38;5;241m=\u001b[39m\u001b[38;5;124m'\u001b[39m\u001b[38;5;124mhospital_readmission\u001b[39m\u001b[38;5;124m'\u001b[39m,\n\u001b[1;32m   (...)\u001b[0m\n\u001b[0;32m     18\u001b[0m             \u001b[38;5;124m'\u001b[39m\u001b[38;5;124m--model_output $\u001b[39m\u001b[38;5;124m{{\u001b[39m\u001b[38;5;124moutputs.model_output}}\u001b[39m\u001b[38;5;124m'\u001b[39m\n\u001b[0;32m     19\u001b[0m )\n\u001b[1;32m---> 20\u001b[0m job \u001b[38;5;241m=\u001b[39m \u001b[43mml_client\u001b[49m\u001b[38;5;241;43m.\u001b[39;49m\u001b[43mjobs\u001b[49m\u001b[38;5;241;43m.\u001b[39;49m\u001b[43mcreate_or_update\u001b[49m\u001b[43m(\u001b[49m\u001b[43mjob\u001b[49m\u001b[43m)\u001b[49m\n\u001b[0;32m     21\u001b[0m ml_client\u001b[38;5;241m.\u001b[39mjobs\u001b[38;5;241m.\u001b[39mstream(job\u001b[38;5;241m.\u001b[39mname)\n",
      "File \u001b[1;32mc:\\Users\\volantebjb\\OneDrive\\repos\\diabetes_readmission_predictor\\.venv\\lib\\site-packages\\azure\\core\\tracing\\decorator.py:78\u001b[0m, in \u001b[0;36mdistributed_trace.<locals>.decorator.<locals>.wrapper_use_tracer\u001b[1;34m(*args, **kwargs)\u001b[0m\n\u001b[0;32m     76\u001b[0m span_impl_type \u001b[38;5;241m=\u001b[39m settings\u001b[38;5;241m.\u001b[39mtracing_implementation()\n\u001b[0;32m     77\u001b[0m \u001b[38;5;28;01mif\u001b[39;00m span_impl_type \u001b[38;5;129;01mis\u001b[39;00m \u001b[38;5;28;01mNone\u001b[39;00m:\n\u001b[1;32m---> 78\u001b[0m     \u001b[38;5;28;01mreturn\u001b[39;00m func(\u001b[38;5;241m*\u001b[39margs, \u001b[38;5;241m*\u001b[39m\u001b[38;5;241m*\u001b[39mkwargs)\n\u001b[0;32m     80\u001b[0m \u001b[38;5;66;03m# Merge span is parameter is set, but only if no explicit parent are passed\u001b[39;00m\n\u001b[0;32m     81\u001b[0m \u001b[38;5;28;01mif\u001b[39;00m merge_span \u001b[38;5;129;01mand\u001b[39;00m \u001b[38;5;129;01mnot\u001b[39;00m passed_in_parent:\n",
      "File \u001b[1;32mc:\\Users\\volantebjb\\OneDrive\\repos\\diabetes_readmission_predictor\\.venv\\lib\\site-packages\\azure\\ai\\ml\\_telemetry\\activity.py:350\u001b[0m, in \u001b[0;36mmonitor_with_telemetry_mixin.<locals>.monitor.<locals>.wrapper\u001b[1;34m(*args, **kwargs)\u001b[0m\n\u001b[0;32m    348\u001b[0m dimensions \u001b[38;5;241m=\u001b[39m {\u001b[38;5;241m*\u001b[39m\u001b[38;5;241m*\u001b[39mparameter_dimensions, \u001b[38;5;241m*\u001b[39m\u001b[38;5;241m*\u001b[39m(custom_dimensions \u001b[38;5;129;01mor\u001b[39;00m {})}\n\u001b[0;32m    349\u001b[0m \u001b[38;5;28;01mwith\u001b[39;00m log_activity(logger, activity_name \u001b[38;5;129;01mor\u001b[39;00m f\u001b[38;5;241m.\u001b[39m\u001b[38;5;18m__name__\u001b[39m, activity_type, dimensions) \u001b[38;5;28;01mas\u001b[39;00m activityLogger:\n\u001b[1;32m--> 350\u001b[0m     return_value \u001b[38;5;241m=\u001b[39m f(\u001b[38;5;241m*\u001b[39margs, \u001b[38;5;241m*\u001b[39m\u001b[38;5;241m*\u001b[39mkwargs)\n\u001b[0;32m    351\u001b[0m     \u001b[38;5;28;01mif\u001b[39;00m \u001b[38;5;129;01mnot\u001b[39;00m parameter_dimensions:\n\u001b[0;32m    352\u001b[0m         \u001b[38;5;66;03m# collect from return if no dimensions from parameter\u001b[39;00m\n\u001b[0;32m    353\u001b[0m         activityLogger\u001b[38;5;241m.\u001b[39mactivity_info\u001b[38;5;241m.\u001b[39mupdate(_collect_from_return_value(return_value))\n",
      "File \u001b[1;32mc:\\Users\\volantebjb\\OneDrive\\repos\\diabetes_readmission_predictor\\.venv\\lib\\site-packages\\azure\\ai\\ml\\operations\\_job_operations.py:647\u001b[0m, in \u001b[0;36mJobOperations.create_or_update\u001b[1;34m(self, job, description, compute, tags, experiment_name, skip_validation, **kwargs)\u001b[0m\n\u001b[0;32m    645\u001b[0m     \u001b[38;5;28mself\u001b[39m\u001b[38;5;241m.\u001b[39m_resolve_arm_id_or_upload_dependencies(job)\n\u001b[0;32m    646\u001b[0m \u001b[38;5;28;01mexcept\u001b[39;00m (ValidationException, ValidationError) \u001b[38;5;28;01mas\u001b[39;00m ex:  \u001b[38;5;66;03m# pylint: disable=broad-except\u001b[39;00m\n\u001b[1;32m--> 647\u001b[0m     \u001b[43mlog_and_raise_error\u001b[49m\u001b[43m(\u001b[49m\u001b[43mex\u001b[49m\u001b[43m)\u001b[49m\n\u001b[0;32m    649\u001b[0m git_props \u001b[38;5;241m=\u001b[39m get_git_properties()\n\u001b[0;32m    650\u001b[0m \u001b[38;5;66;03m# Do not add git props if they already exist in job properties.\u001b[39;00m\n\u001b[0;32m    651\u001b[0m \u001b[38;5;66;03m# This is for update specifically-- if the user switches branches and tries to update\u001b[39;00m\n\u001b[0;32m    652\u001b[0m \u001b[38;5;66;03m# their job, the request will fail since the git props will be repopulated.\u001b[39;00m\n\u001b[0;32m    653\u001b[0m \u001b[38;5;66;03m# MFE does not allow existing properties to be updated, only for new props to be added\u001b[39;00m\n",
      "File \u001b[1;32mc:\\Users\\volantebjb\\OneDrive\\repos\\diabetes_readmission_predictor\\.venv\\lib\\site-packages\\azure\\ai\\ml\\_exception_helper.py:337\u001b[0m, in \u001b[0;36mlog_and_raise_error\u001b[1;34m(error, debug, yaml_operation)\u001b[0m\n\u001b[0;32m    334\u001b[0m \u001b[38;5;28;01melse\u001b[39;00m:\n\u001b[0;32m    335\u001b[0m     \u001b[38;5;28;01mraise\u001b[39;00m error\n\u001b[1;32m--> 337\u001b[0m \u001b[38;5;28;01mraise\u001b[39;00m \u001b[38;5;167;01mException\u001b[39;00m(formatted_error)\n",
      "\u001b[1;31mException\u001b[0m: {\n  \"result\": \"Failed\",\n  \"errors\": [\n    {\n      \"message\": \"Can't find directory or file in resolved absolute path: C:/Users/volantebjb/OneDrive/repos/diabetes_readmission_predictor/azureml:src.; Not a valid URL.; In order to specify a git path, please provide the correct path prefixed with 'git+\\n; In order to specify an existing codes, please provide the correct registry path prefixed with 'azureml://':\\n; In order to specify an existing codes, please provide the correct registry path prefixed with 'azureml://':\\n; Could not parse src/. If providing an ARM id, it should start with a '/'.\",\n      \"path\": \"component.code\",\n      \"value\": \"azureml:src/\"\n    }\n  ]\n}"
     ]
    }
   ],
   "source": [
    "from azure.ai.ml import command, Input, Output\n",
    "\n",
    "target_column_name = 'readmit_status'\n",
    "\n",
    "# Create the job.\n",
    "job = command(\n",
    "    description='Trains hospital readmission model',\n",
    "    experiment_name='hospital_readmission',\n",
    "    compute=compute_name,\n",
    "    inputs=dict(training_data=Input(type='uri_file', path=f'{train_data_name}@latest'), \n",
    "                target_column_name=target_column_name),\n",
    "    outputs=dict(model_output=Output(type=AssetTypes.MLFLOW_MODEL)),\n",
    "    code='src/',\n",
    "    environment='azureml://registries/azureml/environments/AzureML-responsibleai-0.20-ubuntu20.04-py38-cpu/versions/37',\n",
    "    command='python train.py ' + \n",
    "            '--training_data ${{inputs.training_data}} ' +\n",
    "            '--target_column_name ${{inputs.target_column_name}} ' +\n",
    "            '--model_output ${{outputs.model_output}}'\n",
    ")\n",
    "job = ml_client.jobs.create_or_update(job)\n",
    "ml_client.jobs.stream(job.name)"
   ]
  },
  {
   "cell_type": "markdown",
   "metadata": {},
   "source": [
    "### Register model"
   ]
  },
  {
   "cell_type": "code",
   "execution_count": null,
   "metadata": {},
   "outputs": [],
   "source": [
    "from azure.ai.ml.entities import Model\n",
    "\n",
    "model_name = 'hospital_readmission_model'\n",
    "\n",
    "# Register the model.\n",
    "model_path = f'azureml://jobs/{job.name}/outputs/model_output'\n",
    "model = Model(name=model_name,\n",
    "                path=model_path,\n",
    "                type=AssetTypes.MLFLOW_MODEL)\n",
    "registered_model = ml_client.models.create_or_update(model)"
   ]
  }
 ],
 "metadata": {
  "kernelspec": {
   "display_name": ".venv",
   "language": "python",
   "name": "python3"
  },
  "language_info": {
   "codemirror_mode": {
    "name": "ipython",
    "version": 3
   },
   "file_extension": ".py",
   "mimetype": "text/x-python",
   "name": "python",
   "nbconvert_exporter": "python",
   "pygments_lexer": "ipython3",
   "version": "3.10.0"
  }
 },
 "nbformat": 4,
 "nbformat_minor": 2
}
