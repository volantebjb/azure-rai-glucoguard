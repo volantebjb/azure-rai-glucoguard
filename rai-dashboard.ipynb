{
 "cells": [
  {
   "cell_type": "markdown",
   "metadata": {},
   "source": [
    "### Warnings"
   ]
  },
  {
   "cell_type": "code",
   "execution_count": null,
   "metadata": {
    "vscode": {
     "languageId": "plaintext"
    }
   },
   "outputs": [],
   "source": [
    "import warnings\n",
    "warnings.filterwarnings('ignore')"
   ]
  },
  {
   "cell_type": "markdown",
   "metadata": {},
   "source": [
    "### ML Client session"
   ]
  },
  {
   "cell_type": "code",
   "execution_count": null,
   "metadata": {
    "vscode": {
     "languageId": "plaintext"
    }
   },
   "outputs": [],
   "source": [
    "from azure.ai.ml import MLClient\n",
    "from azure.identity import DefaultAzureCredential\n",
    "\n",
    "registry_name = 'azureml'\n",
    "credential = DefaultAzureCredential()\n",
    "ml_client =  MLClient.from_config(credential=credential)\n",
    "\n",
    "ml_client_registry = MLClient(\n",
    "    credential=credential,\n",
    "    subscription_id=ml_client.subscription_id,\n",
    "    resource_group_name=ml_client.resource_group_name,\n",
    "    registry_name=registry_name\n",
    ")"
   ]
  },
  {
   "cell_type": "markdown",
   "metadata": {},
   "source": [
    "### Numeric and Categorical columns"
   ]
  },
  {
   "cell_type": "code",
   "execution_count": null,
   "metadata": {
    "vscode": {
     "languageId": "plaintext"
    }
   },
   "outputs": [],
   "source": [
    "import pandas as pd\n",
    "\n",
    "target_column = 'readmit_status'\n",
    "\n",
    "def get_categorical_numerical_data(dataset):\n",
    "    dataset = dataset.drop([target_column], axis = 1)  \n",
    "    categorical = []\n",
    "    for col, value in dataset.iteritems():\n",
    "        if value.dtype == 'object' or value.dtype == 'bool':\n",
    "            categorical.append(col)\n",
    "    numerical = dataset.columns.difference(categorical)\n",
    "    return categorical, numerical\n",
    "\n",
    "# get categorical and numerical fields from training data\n",
    "train_data = pd.read_parquet('data/training_data.parquet')\n",
    "categorical, numerical = get_categorical_numerical_data(train_data)\n",
    "print('categorical columns: ',  categorical)\n",
    "print('numerical field: ', numerical)"
   ]
  },
  {
   "cell_type": "markdown",
   "metadata": {},
   "source": [
    "### Dashboard components"
   ]
  },
  {
   "cell_type": "code",
   "execution_count": null,
   "metadata": {
    "vscode": {
     "languageId": "plaintext"
    }
   },
   "outputs": [],
   "source": [
    "label = 'latest'\n",
    "\n",
    "rai_constructor_component = ml_client_registry.components.get(\n",
    "    name='microsoft_azureml_rai_tabular_insight_constructor', label=label\n",
    ")\n",
    "\n",
    "# We get latest version and use the same version for all components\n",
    "version = rai_constructor_component.version\n",
    "\n",
    "rai_explanation_component = ml_client_registry.components.get(\n",
    "    name='microsoft_azureml_rai_tabular_explanation', version=version\n",
    ")\n",
    "\n",
    "rai_erroranalysis_component = ml_client_registry.components.get(\n",
    "    name='microsoft_azureml_rai_tabular_erroranalysis', version=version\n",
    ")\n",
    "\n",
    "rai_gather_component = ml_client_registry.components.get(\n",
    "    name='microsoft_azureml_rai_tabular_insight_gather', version=version\n",
    ")"
   ]
  }
 ],
 "metadata": {
  "language_info": {
   "name": "python"
  }
 },
 "nbformat": 4,
 "nbformat_minor": 2
}
